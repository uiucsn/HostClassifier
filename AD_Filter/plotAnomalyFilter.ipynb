{
 "cells": [
  {
   "cell_type": "code",
   "execution_count": 1,
   "id": "c73da93f",
   "metadata": {},
   "outputs": [],
   "source": [
    "import numpy as np \n",
    "import matplotlib.pyplot as plt \n",
    "import seaborn as sns\n",
    "import pandas as pd "
   ]
  },
  {
   "cell_type": "code",
   "execution_count": 4,
   "id": "84c39557",
   "metadata": {},
   "outputs": [],
   "source": [
    "import pickle\n",
    "\n",
    "ANTARES_report_all = pickle.load(open(\"ANTARES_report_all_dict.pickle\", \"rb\" ))\n",
    "ANTARES_report_class_dict = pickle.load(open(\"ANTARES_report_class_dict.pickle\", \"rb\" ))\n",
    "group_name_dict = pickle.load(open(\"group_name_dict.pickle\", \"rb\" ))\n",
    "noTNSresult_dict = pickle.load(open(\"noTNSresult_dict.pickle\", \"rb\" ))\n",
    "TNSresult_dict = pickle.load(open(\"TNSresult_dict.pickle\", \"rb\" ))\n",
    "\n"
   ]
  },
  {
   "cell_type": "code",
   "execution_count": 7,
   "id": "aeccf22c",
   "metadata": {},
   "outputs": [],
   "source": [
    "ANTARES_report_class_dict['ANT2021nn45w'] = 'Microlensing Event'"
   ]
  },
  {
   "cell_type": "code",
   "execution_count": 8,
   "id": "20f081a3",
   "metadata": {},
   "outputs": [
    {
     "data": {
      "text/plain": [
       "{'ANT2021243ky': 'CV',\n",
       " 'ANT2021nvuqw': 'CV',\n",
       " 'ANT2021sijmu': 'SN IIn',\n",
       " 'ANT2021rptlm': 'SN Ia',\n",
       " 'ANT2021rb44y': 'SN Ia',\n",
       " 'ANT2021owkls': 'SN Ib/c',\n",
       " 'ANT2021nn45w': 'Microlensing Event',\n",
       " 'ANT2021l3w6y': 'SN IIn',\n",
       " 'ANT2021og67k': 'SN Ia',\n",
       " 'ANT2021l2op2': 'SN Ia'}"
      ]
     },
     "execution_count": 8,
     "metadata": {},
     "output_type": "execute_result"
    }
   ],
   "source": [
    "ANTARES_report_class_dict"
   ]
  },
  {
   "cell_type": "code",
   "execution_count": 9,
   "id": "1eec8079",
   "metadata": {},
   "outputs": [
    {
     "data": {
      "text/plain": [
       "10"
      ]
     },
     "execution_count": 9,
     "metadata": {},
     "output_type": "execute_result"
    }
   ],
   "source": [
    "len(ANTARES_report_class_dict)"
   ]
  },
  {
   "cell_type": "code",
   "execution_count": 14,
   "id": "a66b6217",
   "metadata": {},
   "outputs": [
    {
     "data": {
      "text/plain": [
       "68"
      ]
     },
     "execution_count": 14,
     "metadata": {},
     "output_type": "execute_result"
    }
   ],
   "source": [
    "np.sum([x == 'None' for x in ANTARES_report_all.values()])"
   ]
  },
  {
   "cell_type": "code",
   "execution_count": null,
   "id": "8a8b7b99",
   "metadata": {},
   "outputs": [],
   "source": []
  }
 ],
 "metadata": {
  "kernelspec": {
   "display_name": "Python 3",
   "language": "python",
   "name": "python3"
  },
  "language_info": {
   "codemirror_mode": {
    "name": "ipython",
    "version": 3
   },
   "file_extension": ".py",
   "mimetype": "text/x-python",
   "name": "python",
   "nbconvert_exporter": "python",
   "pygments_lexer": "ipython3",
   "version": "3.7.6"
  }
 },
 "nbformat": 4,
 "nbformat_minor": 5
}
